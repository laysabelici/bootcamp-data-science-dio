{
  "nbformat": 4,
  "nbformat_minor": 0,
  "metadata": {
    "colab": {
      "provenance": [],
      "authorship_tag": "ABX9TyO8iDVYvst2JjChProGlbJJ",
      "include_colab_link": true
    },
    "kernelspec": {
      "name": "python3",
      "display_name": "Python 3"
    },
    "language_info": {
      "name": "python"
    }
  },
  "cells": [
    {
      "cell_type": "markdown",
      "metadata": {
        "id": "view-in-github",
        "colab_type": "text"
      },
      "source": [
        "<a href=\"https://colab.research.google.com/github/laysabelici/bootcamp-data-science-dio/blob/main/exercicio_etl_simples.ipynb\" target=\"_parent\"><img src=\"https://colab.research.google.com/assets/colab-badge.svg\" alt=\"Open In Colab\"/></a>"
      ]
    },
    {
      "cell_type": "code",
      "execution_count": null,
      "metadata": {
        "id": "lYCydOseVWee"
      },
      "outputs": [],
      "source": [
        "import pandas as pd\n",
        "\n",
        "# Carregue os dados da tabela de origem (nascimento.csv)\n",
        "df_origem = pd.read_csv('nascimento.csv')\n",
        "\n",
        "# Crie uma nova coluna 'aniversario' na tabela de origem\n",
        "# Use o método str.split() para dividir a coluna 'nascimento' e pegar apenas o dia e mês\n",
        "df_origem['aniversario'] = df_origem['nascimento'].str.split('/').str[:2].str.join('/')\n",
        "\n",
        "# Se você quiser salvar os dados transformados em um novo arquivo CSV (aniversario.csv):\n",
        "df_origem[['nome', 'aniversario']].to_csv('aniversario.csv', index=False)\n",
        "\n",
        "# Se você quiser visualizar a tabela resultante:\n",
        "print(df_origem[['nome', 'aniversario']])"
      ]
    }
  ]
}