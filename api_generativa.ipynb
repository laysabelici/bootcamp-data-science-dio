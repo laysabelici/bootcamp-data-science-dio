{
  "nbformat": 4,
  "nbformat_minor": 0,
  "metadata": {
    "colab": {
      "provenance": [],
      "authorship_tag": "ABX9TyNmBB7s0mERgOLOvMN0nN8k",
      "include_colab_link": true
    },
    "kernelspec": {
      "name": "python3",
      "display_name": "Python 3"
    },
    "language_info": {
      "name": "python"
    }
  },
  "cells": [
    {
      "cell_type": "markdown",
      "metadata": {
        "id": "view-in-github",
        "colab_type": "text"
      },
      "source": [
        "<a href=\"https://colab.research.google.com/github/laysabelici/bootcamp-data-science-dio/blob/main/api_generativa.ipynb\" target=\"_parent\"><img src=\"https://colab.research.google.com/assets/colab-badge.svg\" alt=\"Open In Colab\"/></a>"
      ]
    },
    {
      "cell_type": "code",
      "execution_count": 27,
      "metadata": {
        "id": "JsEF5Dc1BOxb"
      },
      "outputs": [],
      "source": [
        "sdw_api_url = 'https://sdw-2023-prd.up.railway.app'"
      ]
    },
    {
      "cell_type": "markdown",
      "source": [
        "**EXTRACT**"
      ],
      "metadata": {
        "id": "KowHpG95Bnom"
      }
    },
    {
      "cell_type": "code",
      "source": [
        "#EXTRAIR OS IDS DO ARQUIVO CSV"
      ],
      "metadata": {
        "id": "LTOrZ6r8BqDM"
      },
      "execution_count": 28,
      "outputs": []
    },
    {
      "cell_type": "code",
      "source": [
        "import pandas as pd\n",
        "df = pd.read_csv('bootcamp-santander.csv')\n",
        "user_ids = df['UserID'].tolist()\n",
        "print(user_ids)"
      ],
      "metadata": {
        "colab": {
          "base_uri": "https://localhost:8080/"
        },
        "id": "trZ_DN7cDWfW",
        "outputId": "ba6a5342-a077-4bbb-cfee-4fe44bf9c7d1"
      },
      "execution_count": 29,
      "outputs": [
        {
          "output_type": "stream",
          "name": "stdout",
          "text": [
            "[1890, 1891]\n"
          ]
        }
      ]
    },
    {
      "cell_type": "code",
      "source": [
        "#OBTER DADOS DE CADA ID USANDO API\n",
        "import requests\n",
        "import json\n",
        "\n",
        "def get_user(id):\n",
        "  response = requests.get(f'{sdw_api_url}/users/{id}')\n",
        "  return response.json() if response.status_code == 200 else None\n",
        "\n",
        "users = [user for id in user_ids if (user := get_user(id)) is not None]\n",
        "print(json.dumps(users, indent=2))"
      ],
      "metadata": {
        "colab": {
          "base_uri": "https://localhost:8080/"
        },
        "id": "ETRr4Bj8D0va",
        "outputId": "6f8e36f1-910b-4e6f-ebbd-c9fadf8fffb7"
      },
      "execution_count": 30,
      "outputs": [
        {
          "output_type": "stream",
          "name": "stdout",
          "text": [
            "[\n",
            "  {\n",
            "    \"id\": 1890,\n",
            "    \"name\": \"Gabriela\",\n",
            "    \"account\": {\n",
            "      \"id\": 1980,\n",
            "      \"number\": \"0009-1\",\n",
            "      \"agency\": \"0001\",\n",
            "      \"balance\": 0.0,\n",
            "      \"limit\": 500.0\n",
            "    },\n",
            "    \"card\": {\n",
            "      \"id\": 1823,\n",
            "      \"number\": \"**** **** **** 1590\",\n",
            "      \"limit\": 1000.0\n",
            "    },\n",
            "    \"features\": [],\n",
            "    \"news\": []\n",
            "  },\n",
            "  {\n",
            "    \"id\": 1891,\n",
            "    \"name\": \"Joao\",\n",
            "    \"account\": {\n",
            "      \"id\": 1981,\n",
            "      \"number\": \"0009-2\",\n",
            "      \"agency\": \"0001\",\n",
            "      \"balance\": 0.0,\n",
            "      \"limit\": 500.0\n",
            "    },\n",
            "    \"card\": {\n",
            "      \"id\": 1824,\n",
            "      \"number\": \"**** **** **** 1591\",\n",
            "      \"limit\": 1000.0\n",
            "    },\n",
            "    \"features\": [],\n",
            "    \"news\": []\n",
            "  }\n",
            "]\n"
          ]
        }
      ]
    },
    {
      "cell_type": "markdown",
      "source": [
        "**TRANSFORMAÇÃO**"
      ],
      "metadata": {
        "id": "udpwRF8pHppM"
      }
    },
    {
      "cell_type": "code",
      "source": [
        "!pip install openai"
      ],
      "metadata": {
        "colab": {
          "base_uri": "https://localhost:8080/"
        },
        "id": "SDJVvwTNE4Kb",
        "outputId": "79da2064-ef18-4169-c549-4f4c55a35ab3"
      },
      "execution_count": 31,
      "outputs": [
        {
          "output_type": "stream",
          "name": "stdout",
          "text": [
            "Requirement already satisfied: openai in /usr/local/lib/python3.10/dist-packages (0.28.0)\n",
            "Requirement already satisfied: requests>=2.20 in /usr/local/lib/python3.10/dist-packages (from openai) (2.31.0)\n",
            "Requirement already satisfied: tqdm in /usr/local/lib/python3.10/dist-packages (from openai) (4.66.1)\n",
            "Requirement already satisfied: aiohttp in /usr/local/lib/python3.10/dist-packages (from openai) (3.8.5)\n",
            "Requirement already satisfied: charset-normalizer<4,>=2 in /usr/local/lib/python3.10/dist-packages (from requests>=2.20->openai) (3.2.0)\n",
            "Requirement already satisfied: idna<4,>=2.5 in /usr/local/lib/python3.10/dist-packages (from requests>=2.20->openai) (3.4)\n",
            "Requirement already satisfied: urllib3<3,>=1.21.1 in /usr/local/lib/python3.10/dist-packages (from requests>=2.20->openai) (2.0.4)\n",
            "Requirement already satisfied: certifi>=2017.4.17 in /usr/local/lib/python3.10/dist-packages (from requests>=2.20->openai) (2023.7.22)\n",
            "Requirement already satisfied: attrs>=17.3.0 in /usr/local/lib/python3.10/dist-packages (from aiohttp->openai) (23.1.0)\n",
            "Requirement already satisfied: multidict<7.0,>=4.5 in /usr/local/lib/python3.10/dist-packages (from aiohttp->openai) (6.0.4)\n",
            "Requirement already satisfied: async-timeout<5.0,>=4.0.0a3 in /usr/local/lib/python3.10/dist-packages (from aiohttp->openai) (4.0.3)\n",
            "Requirement already satisfied: yarl<2.0,>=1.0 in /usr/local/lib/python3.10/dist-packages (from aiohttp->openai) (1.9.2)\n",
            "Requirement already satisfied: frozenlist>=1.1.1 in /usr/local/lib/python3.10/dist-packages (from aiohttp->openai) (1.4.0)\n",
            "Requirement already satisfied: aiosignal>=1.1.2 in /usr/local/lib/python3.10/dist-packages (from aiohttp->openai) (1.3.1)\n"
          ]
        }
      ]
    },
    {
      "cell_type": "code",
      "source": [
        "import requests\n",
        "\n",
        "# Sua chave da API da OpenAI\n",
        "api_key = \"\"\n",
        "\n",
        "# URL da API da OpenAI\n",
        "api_url = \"https://api.openai.com/v1/engines/davinci/completions\" # Substitua \"some_endpoint\" pelo endpoint real que deseja acessar\n",
        "\n",
        "# Cabeçalho de autenticação\n",
        "headers = {\n",
        "    \"Authorization\": f\"Bearer {api_key}\"\n",
        "}\n",
        "\n",
        "# Realize uma solicitação GET (ou POST, etc.) para a API da OpenAI\n",
        "response = requests.get(api_url, headers=headers)\n",
        "\n",
        "# Verifique a resposta\n",
        "if response.status_code == 200:\n",
        "    data = response.json()\n",
        "    print(data)\n",
        "else:\n",
        "    print(f\"Erro na solicitação: {response.status_code}\")\n",
        "    print(response.text)\n"
      ],
      "metadata": {
        "colab": {
          "base_uri": "https://localhost:8080/"
        },
        "id": "Bqm9dyFcP0Od",
        "outputId": "7cfc2891-cb38-495a-9259-df477d9a4dc9"
      },
      "execution_count": 41,
      "outputs": [
        {
          "output_type": "stream",
          "name": "stdout",
          "text": [
            "Erro na solicitação: 405\n",
            "{\n",
            "    \"error\": {\n",
            "        \"message\": \"Only POST requests are accepted.\",\n",
            "        \"type\": \"invalid_request_error\",\n",
            "        \"param\": null,\n",
            "        \"code\": \"method_not_supported\"\n",
            "    }\n",
            "}\n",
            "\n"
          ]
        }
      ]
    },
    {
      "cell_type": "code",
      "source": [
        "open_api_key=''"
      ],
      "metadata": {
        "id": "WRw7ThKyH32r"
      },
      "execution_count": 42,
      "outputs": []
    },
    {
      "cell_type": "code",
      "source": [
        "import openai\n",
        "\n",
        "openai.api_key = open_api_key\n",
        "\n",
        "def generate_ai_news(user):\n",
        "  completion = open.ChatCompletion.create(\n",
        "      model='gpt-4',\n",
        "      messages=[\n",
        "            {\n",
        "                'role':'system',\n",
        "                'content':'Você é um especialista em marketing bancário.'\n",
        "            },\n",
        "            {\n",
        "                'role':'user',\n",
        "                'content':f'Crie uma mensagem para {user[\"name\"]} sobre investimentos. (Até 100 caracteres)'\n",
        "            }\n",
        "          ]\n",
        "  )\n",
        "\n",
        "  return completion.choices[0].message.content.strip(\"\\'\")\n",
        "\n",
        "  for user in users:\n",
        "    news = generate_ai_news(user)\n",
        "    print(news)\n",
        "    user['news'].append({\n",
        "        'icon':'',\n",
        "        'description': news\n",
        "    })"
      ],
      "metadata": {
        "id": "Xb7UGEfXJPqo"
      },
      "execution_count": 43,
      "outputs": []
    },
    {
      "cell_type": "markdown",
      "source": [
        "**CARREGAMENTO**"
      ],
      "metadata": {
        "id": "Aw-daxaxRlt9"
      }
    },
    {
      "cell_type": "code",
      "source": [
        "def update_user(user):\n",
        "  response = requests.put(f'{sdw_api_url}/users/{user[\"id\"]}', json=user)\n",
        "  return True if response.status_code == 200 else False\n",
        "\n",
        "for user in users:\n",
        "  sucess = update_user(user)\n",
        "  print(f'User {user[\"name\"]} updated? {sucess}!')"
      ],
      "metadata": {
        "colab": {
          "base_uri": "https://localhost:8080/"
        },
        "id": "B33tx1RtJl9W",
        "outputId": "9bae6033-f898-4bc6-a046-ac5f1b0e28fb"
      },
      "execution_count": 47,
      "outputs": [
        {
          "output_type": "stream",
          "name": "stdout",
          "text": [
            "User Gabriela updated? True!\n",
            "User Joao updated? True!\n"
          ]
        }
      ]
    },
    {
      "cell_type": "code",
      "source": [],
      "metadata": {
        "id": "nZrvSCJzSlmS"
      },
      "execution_count": null,
      "outputs": []
    }
  ]
}